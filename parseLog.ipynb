{
 "metadata": {
  "name": "parselog.ipynb"
 },
 "nbformat": 3,
 "nbformat_minor": 0,
 "worksheets": [
  {
   "cells": [
    {
     "cell_type": "code",
     "collapsed": false,
     "input": [
      "print(\"Net Sec\")\n",
      "import urllib2\n",
      "import json\n",
      "import pandas as pd\n",
      "import csv\n",
      "import numpy\n",
      "import sys\n",
      "import re\n",
      "filePath = 'C:\\\\Users\\\\sreevathsan\\\\Documents\\\\Stony Brook\\\\Academics\\\\Sem3-Spring2015\\\\netsec\\\\project\\\\'"
     ],
     "language": "python",
     "metadata": {},
     "outputs": [
      {
       "output_type": "stream",
       "stream": "stdout",
       "text": [
        "Net Sec\n"
       ]
      }
     ],
     "prompt_number": 110
    },
    {
     "cell_type": "markdown",
     "metadata": {},
     "source": [
      "Step 1: Convert the text log into csv for pandas processing"
     ]
    },
    {
     "cell_type": "code",
     "collapsed": false,
     "input": [
      "logFile = open(filePath+\"logs.txt\",'r')\n",
      "loginCsvFile = open(filePath+\"loginLog.csv\",'w')\n",
      "registerCsvFile = open(filePath+\"registerLog.csv\",'w')\n",
      "loginCsvFile.write(\"Username,Password\")\n",
      "regParam = \"Country,State,Pin_Code,City,Address,Mobile_Number,Email_Id,Age,Day,Last_Name,First_Name\"\n",
      "registerCsvFile.write(regParam)\n",
      "for perLine in logFile:\n",
      "    try:\n",
      "        if(perLine.find(\"***malicious***\")==-1 and perLine.strip()!= \"\"):\n",
      "            tokens = perLine.strip().split(\"&\")\n",
      "            line = tokens[size(tokens)-1] + \"&\" + perLine.split(\"&\"+tokens[size(tokens)-1])[0]\n",
      "            #print line\n",
      "            page = \"\"\n",
      "            #line = urllib2.unquote(line.encode(\"utf8\"))\n",
      "            print line\n",
      "            tokens = line.split(\"&\")\n",
      "            commaFlag = False\n",
      "            #print tokens\n",
      "            for token in tokens:\n",
      "                parameters = token.split(\"=\")\n",
      "                param1 = urllib2.unquote(parameters[1].strip().encode(\"utf8\"))\n",
      "                if(page == \"LOGIN\" or parameters[1]==\"LOGIN\"):\n",
      "                    page = \"LOGIN\"\n",
      "                    if(parameters[1]==\"LOGIN\"):\n",
      "                        #loginCsvFile.write(\"\\n\")\n",
      "                        print \"LOGIN\"\n",
      "                    else:\n",
      "                        if commaFlag:\n",
      "                            loginCsvFile.write(\",\"+param1)\n",
      "                        else:\n",
      "                            loginCsvFile.write(\"\\n\"+param1)\n",
      "                            commaFlag = True\n",
      "                elif(page == \"REGISTER\" or parameters[1]==\"REGISTER\"):\n",
      "                    page = \"REGISTER\"\n",
      "                    if(parameters[1]==\"REGISTER\"):\n",
      "                        #loginCsvFile.write(\"\\n\")\n",
      "                        print \"REGISTER\"\n",
      "                    else:\n",
      "                        if commaFlag:\n",
      "                            registerCsvFile.write(\",\"+param1)\n",
      "                        else:\n",
      "                            registerCsvFile.write(\"\\n\"+param1)\n",
      "                            commaFlag = True\n",
      "            page = \"\"\n",
      "            #break\n",
      "    except:\n",
      "        print \"Except\"\n",
      "loginCsvFile.close()\n",
      "registerCsvFile.close()\n",
      "logFile.close()"
     ],
     "language": "python",
     "metadata": {},
     "outputs": [
      {
       "output_type": "stream",
       "stream": "stdout",
       "text": [
        "PageName=LOGIN&Password=kumar&Username=harish\n",
        "LOGIN\n",
        "PageName=LOGIN&Password=vatsan@#$&Username=sree\n",
        "LOGIN\n",
        "PageName=REGISTER&Country=india&State=tamil nadu&Pin_Code=11790&City=chennai&Address=61 FIRST STREET bkn colony&Mobile_Number=9841608603&Email_Id=rharishkumar15@gmail.com&Age=23&Day=12/09/2012&Last_Name=Ravichandran&First_Name=Harish kumar\n",
        "REGISTER\n",
        "PageName=REGISTER&Country=usa&State=new york&Pin_Code=11790&City=stony brook&Address=e2076 chapin&Mobile_Number=12323334&Email_Id=sree@gmail.com&Age=23&Day=1/3/14&Last_Name=ravi&First_Name=sreevatsan\n",
        "REGISTER\n",
        "PageName=REGISTER&Country=india&State=tamil nadu&Pin_Code=600019&City=ottawa&Address=aakjssjkjasdjkajhasda&Mobile_Number=2131231&Email_Id=asad@gmail.com&Age=10&Day=15/06/1991&Last_Name=balasubramani&First_Name=deepak\n",
        "REGISTER\n"
       ]
      }
     ],
     "prompt_number": 111
    },
    {
     "cell_type": "markdown",
     "metadata": {},
     "source": [
      "Step 2: Parse the csv to generate a consolidated rule file"
     ]
    },
    {
     "cell_type": "code",
     "collapsed": false,
     "input": [
      "df = pd.read_csv('Loginlog.csv')\n",
      "df1 = pd.read_csv('registerLog.csv')\n",
      "ruleTsvFile = open(filePath+\"rule.tsv\",'w')"
     ],
     "language": "python",
     "metadata": {},
     "outputs": [],
     "prompt_number": 112
    },
    {
     "cell_type": "code",
     "collapsed": false,
     "input": [
      "df = df.replace(np.nan,' ', regex=True)\n",
      "for k in df.keys():\n",
      "    print(k)\n",
      "    list1 = []\n",
      "    try:\n",
      "        for w in df[k].values:\n",
      "            list1.append(len(str(w).strip()))\n",
      "        sd3 = 3*numpy.std(list1, axis=0)\n",
      "        mean = numpy.average(list1)\n",
      "        param_min = (mean-sd3)\n",
      "        param_max = (mean+sd3)\n",
      "    except:\n",
      "        print \"Except\"\n",
      "        param_max = 1\n",
      "        param_min = 0\n",
      "    if (param_min < 0):\n",
      "        param_min = 0\n",
      "    print(\"3SD: \"+str(sd3))\n",
      "    print(\"Mean: \"+str(mean))\n",
      "    print(k+\"\\t\"+str(param_max)+\"\\t\"+str(param_min)+\"\\n\")\n",
      "    ruleTsvFile.write(k+\"\\t\"+str(param_min)+\"\\t\"+str(param_max)+\"\\n\")"
     ],
     "language": "python",
     "metadata": {},
     "outputs": [
      {
       "output_type": "stream",
       "stream": "stdout",
       "text": [
        "Username\n",
        "3SD: 6.0\n",
        "Mean: 7.0\n",
        "Username\t13.0\t1.0\n",
        "\n",
        "Password\n",
        "3SD: 3.0\n",
        "Mean: 5.0\n",
        "Password\t8.0\t2.0\n",
        "\n"
       ]
      }
     ],
     "prompt_number": 113
    },
    {
     "cell_type": "code",
     "collapsed": false,
     "input": [
      "df1 = df1.replace(np.nan,' ', regex=True)\n",
      "for k in df1.keys():\n",
      "    print(k)\n",
      "    list1 = []\n",
      "    param_max = 1\n",
      "    param_min = 0\n",
      "    try:\n",
      "        for w in df1[k].values:\n",
      "            list1.append(len(str(w).strip()))\n",
      "        sd3 = 3*numpy.std(list1, axis=0)\n",
      "        mean = numpy.average(list1)\n",
      "        param_min = mean - sd3\n",
      "        param_max = mean+sd3\n",
      "    except:\n",
      "        param_max = 1\n",
      "        param_min = 0\n",
      "#     print(\"3SD: \"+str(sd3))\n",
      "#     print(\"Mean: \"+str(mean))\n",
      "    if(param_min<0):\n",
      "        param_min = 0\n",
      "    print (k+\"\\t\"+str(param_max)+\"\\t\"+str(param_min))\n",
      "    ruleTsvFile.write(k+\"\\t\"+str(param_min)+\"\\t\"+str(param_max)+\"\\n\")\n",
      "ruleTsvFile.close()"
     ],
     "language": "python",
     "metadata": {},
     "outputs": [
      {
       "output_type": "stream",
       "stream": "stdout",
       "text": [
        "Country\n",
        "Country\t7.16176045808\t1.50490620859\n",
        "State\n",
        "State\t12.1617604581\t6.50490620859\n",
        "Pin_Code\n",
        "Pin_Code\t6.74754689571\t3.91911977096\n",
        "City\n",
        "City\t14.4807406984\t1.51925930159\n",
        "Address\n",
        "Address\t37.0448138636\t2.28851946968\n",
        "Mobile_Number\n",
        "Mobile_Number\t12.0749907201\t4.59167594656\n",
        "Email_Id\n",
        "Email_Id\t31.4754689571\t3.1911977096\n",
        "Age\n",
        "Age\t2.0\t2.0\n",
        "Day\n",
        "Day\t14.3235209162\t3.00981241717\n",
        "Last_Name\n",
        "Last_Name\t21.7497126403\t0\n",
        "First_Name\n",
        "First_Name\t16.8166481069\t1.85001855979\n"
       ]
      }
     ],
     "prompt_number": 114
    }
   ],
   "metadata": {}
  }
 ]
}
